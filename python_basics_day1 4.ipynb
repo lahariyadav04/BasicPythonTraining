{
  "nbformat": 4,
  "nbformat_minor": 0,
  "metadata": {
    "colab": {
      "provenance": []
    },
    "kernelspec": {
      "name": "python3",
      "display_name": "Python 3"
    },
    "language_info": {
      "name": "python"
    }
  },
  "cells": [
    {
      "cell_type": "code",
      "execution_count": null,
      "metadata": {
        "colab": {
          "base_uri": "https://localhost:8080/"
        },
        "id": "fooBKl8FmcO4",
        "outputId": "803c4e73-9e1f-4bec-e3d7-fe913dbc7733"
      },
      "outputs": [
        {
          "output_type": "stream",
          "name": "stdout",
          "text": [
            "welcome to Python world\n"
          ]
        }
      ],
      "source": [
        "print(\"welcome to Python world\")"
      ]
    },
    {
      "cell_type": "code",
      "source": [
        "print(\"Lahari\")\n"
      ],
      "metadata": {
        "colab": {
          "base_uri": "https://localhost:8080/"
        },
        "id": "yuXMQeruy6bi",
        "outputId": "f45cbc2f-86e0-4354-f90b-c53895b443a0"
      },
      "execution_count": null,
      "outputs": [
        {
          "output_type": "stream",
          "name": "stdout",
          "text": [
            "Lahari\n"
          ]
        }
      ]
    },
    {
      "cell_type": "code",
      "source": [
        "2+3"
      ],
      "metadata": {
        "colab": {
          "base_uri": "https://localhost:8080/"
        },
        "id": "456iibnZml4b",
        "outputId": "98005d39-dad6-427f-90f5-a6fad527d64b"
      },
      "execution_count": null,
      "outputs": [
        {
          "output_type": "execute_result",
          "data": {
            "text/plain": [
              "5"
            ]
          },
          "metadata": {},
          "execution_count": 2
        }
      ]
    },
    {
      "cell_type": "code",
      "source": [
        "a=10\n",
        "print(a)\n",
        "print(\"a\", id(a))\n",
        "\n",
        "b=10\n",
        "print(b)\n",
        "print(\"b\", id(b))\n",
        "\n",
        "c=a\n",
        "print(\"c\", id(c))\n"
      ],
      "metadata": {
        "colab": {
          "base_uri": "https://localhost:8080/"
        },
        "id": "vj39ndPP8ZOJ",
        "outputId": "6cb69548-55b0-48d2-d910-9268f8ae3b80"
      },
      "execution_count": null,
      "outputs": [
        {
          "output_type": "stream",
          "name": "stdout",
          "text": [
            "10\n",
            "a 10751144\n",
            "10\n",
            "b 10751144\n",
            "c 10751144\n"
          ]
        }
      ]
    },
    {
      "cell_type": "code",
      "source": [
        "#dynamic\n",
        "a=10\n",
        "print(a)\n",
        "print(\"a\", id(a))\n",
        "\n",
        "a=3.14\n",
        "print(a)\n",
        "print(\"a\", id(a))\n",
        "\n",
        "a= \"NTT\"\n",
        "print(a)\n",
        "print"
      ],
      "metadata": {
        "colab": {
          "base_uri": "https://localhost:8080/"
        },
        "id": "FuspXXzg_XXx",
        "outputId": "5c0bf0d3-c6b4-4d44-ec45-534cc2f4fe66"
      },
      "execution_count": null,
      "outputs": [
        {
          "output_type": "stream",
          "name": "stdout",
          "text": [
            "10\n",
            "a 10751144\n",
            "3.14\n",
            "a 134429805331504\n"
          ]
        }
      ]
    },
    {
      "cell_type": "code",
      "source": [
        "#Deleting a Variable\n",
        "a= 20\n",
        "print(a)\n",
        "\n",
        "del a\n",
        "print(a)\n",
        "\n"
      ],
      "metadata": {
        "colab": {
          "base_uri": "https://localhost:8080/"
        },
        "id": "Ugym_hlg8asS",
        "outputId": "08b07013-8667-43d2-8c09-0c816aa1a3cc"
      },
      "execution_count": null,
      "outputs": [
        {
          "output_type": "stream",
          "name": "stdout",
          "text": [
            "20\n"
          ]
        }
      ]
    },
    {
      "cell_type": "code",
      "source": [
        "a= \"NTT Data\"\n",
        "print(a[0:1:1])\n",
        "print(a[0:7:1])\n",
        "print(a[0:-3:1])\n",
        "print(a[-2:-6:1])\n",
        "print(a[-1:-7:-2])\n"
      ],
      "metadata": {
        "id": "xv5swW828a9I",
        "colab": {
          "base_uri": "https://localhost:8080/"
        },
        "outputId": "d681116b-b8ad-46fe-c488-3887834b1b11"
      },
      "execution_count": null,
      "outputs": [
        {
          "output_type": "stream",
          "name": "stdout",
          "text": [
            "N\n",
            "NTT Dat\n",
            "NTT D\n",
            "\n",
            "aa \n"
          ]
        }
      ]
    },
    {
      "cell_type": "markdown",
      "source": [],
      "metadata": {
        "id": "CjKBQhaGp33P"
      }
    },
    {
      "cell_type": "code",
      "source": [
        "#day3\n",
        "# Simple iF Statement\n",
        "if 10>3:\n",
        "  print(\"10 is greater than 3\")\n",
        "  print(\"this is if statement\")\n",
        "\n"
      ],
      "metadata": {
        "id": "KT15QXErkdWP"
      },
      "execution_count": null,
      "outputs": []
    },
    {
      "cell_type": "code",
      "source": [
        "# input Statement\n",
        "name = input(\"Enter your name: \")\n",
        "print(\"Welcome\", name)"
      ],
      "metadata": {
        "colab": {
          "base_uri": "https://localhost:8080/"
        },
        "id": "K1anOig7p7hf",
        "outputId": "0264a454-6616-405a-fc3e-861f75773c21"
      },
      "execution_count": null,
      "outputs": [
        {
          "output_type": "stream",
          "name": "stdout",
          "text": [
            "Enter your name: lahari\n",
            "Welcome lahari\n"
          ]
        }
      ]
    },
    {
      "cell_type": "code",
      "source": [
        "no1 = input(\"Enter first number: \")\n",
        "no2 = input(\"Enter second number: \")\n",
        "print(no1+no2)\n",
        "if no1>no2:\n",
        "  print(\"no1 is greater than no2\")\n",
        "else:\n",
        "  print(\"no2 is greater than no1\")\n"
      ],
      "metadata": {
        "colab": {
          "base_uri": "https://localhost:8080/"
        },
        "id": "CMmQkNybq6nA",
        "outputId": "2ae0b32d-a62f-4ed4-ebf8-e803b9df3eda"
      },
      "execution_count": null,
      "outputs": [
        {
          "output_type": "stream",
          "name": "stdout",
          "text": [
            "Enter first number: 10\n",
            "Enter second number: 6\n",
            "106\n",
            "no2 is greater than no1\n"
          ]
        }
      ]
    },
    {
      "cell_type": "code",
      "source": [
        "age = int(input(\"Enter your age: \"))\n",
        "if age>=18:\n",
        "  print(\"You are eligible to vote\")\n",
        "else:\n",
        "  print(\"You are not eligible to vote\")\n",
        "\n",
        "print(\"Thank you\")"
      ],
      "metadata": {
        "colab": {
          "base_uri": "https://localhost:8080/"
        },
        "id": "SK4HlP2XtQ7g",
        "outputId": "bb69c02a-a551-44f7-ffaa-120d8212fe65"
      },
      "execution_count": null,
      "outputs": [
        {
          "output_type": "stream",
          "name": "stdout",
          "text": [
            "Enter your age: 29\n",
            "You are eligible to vote\n",
            "Thank you\n"
          ]
        }
      ]
    },
    {
      "cell_type": "code",
      "source": [],
      "metadata": {
        "id": "OWkFytIc1Jd2"
      },
      "execution_count": null,
      "outputs": []
    },
    {
      "cell_type": "code",
      "source": [
        "a= int(input(\"Enter first number: \"))\n",
        "b= int(input(\"Enter second number: \"))\n",
        "if a % 2 == 0:  # Colon added and print statement indented\n",
        "    print(\"a is even\")\n",
        "else :\n",
        "    print(\"a is odd\")  # Print statement indented"
      ],
      "metadata": {
        "colab": {
          "base_uri": "https://localhost:8080/"
        },
        "id": "Ae45YGUJt2dz",
        "outputId": "ac7b0062-bca0-450f-c164-3b2d2e2daedb"
      },
      "execution_count": null,
      "outputs": [
        {
          "output_type": "stream",
          "name": "stdout",
          "text": [
            "Enter first number: 2\n",
            "Enter second number: 1\n",
            "a is even\n"
          ]
        }
      ]
    },
    {
      "cell_type": "code",
      "source": [
        "num = int(input(\"Enter a number: \"))\n",
        "i=1\n",
        "while (i<=10):\n",
        "  if (i%2!=0):\n",
        "    print(num, \"*\", i, \"=\", num*i)\n",
        "  i=i+1\n"
      ],
      "metadata": {
        "colab": {
          "base_uri": "https://localhost:8080/"
        },
        "id": "KZo3DVaT4Wxr",
        "outputId": "84162308-eb3c-4adf-8d3f-c812a830a714"
      },
      "execution_count": null,
      "outputs": [
        {
          "output_type": "stream",
          "name": "stdout",
          "text": [
            "Enter a number: 10\n",
            "10 * 1 = 10\n",
            "10 * 3 = 30\n",
            "10 * 5 = 50\n",
            "10 * 7 = 70\n",
            "10 * 9 = 90\n"
          ]
        }
      ]
    },
    {
      "cell_type": "code",
      "source": [
        "from typing import Counter\n",
        "v = ['a','e','i','o','u']\n",
        "st = \"bangalore\".lower()\n",
        "Counter = 0\n",
        "for i in st:\n",
        "  if i in v:\n",
        "    Counter = Counter + 1\n",
        "    print(Counter)\n",
        "\n"
      ],
      "metadata": {
        "id": "A2pooP0u1KeK",
        "outputId": "9b088d3f-db9a-46e6-fad9-796ccd8d2540",
        "colab": {
          "base_uri": "https://localhost:8080/"
        }
      },
      "execution_count": null,
      "outputs": [
        {
          "output_type": "stream",
          "name": "stdout",
          "text": [
            "1\n",
            "2\n",
            "3\n",
            "4\n"
          ]
        }
      ]
    },
    {
      "cell_type": "code",
      "source": [
        " #reverse a string using slicing\n",
        "\n",
        "a = 'NTT'\n",
        "print(a[::-1])"
      ],
      "metadata": {
        "id": "H19ROYZx2U02",
        "outputId": "cfe00a61-61e1-4538-d7e0-51f90e1801da",
        "colab": {
          "base_uri": "https://localhost:8080/"
        }
      },
      "execution_count": null,
      "outputs": [
        {
          "output_type": "stream",
          "name": "stdout",
          "text": [
            "TTN\n"
          ]
        }
      ]
    },
    {
      "cell_type": "code",
      "source": [
        "#palindrome\n",
        "str = input(\"Enter a string: \")\n",
        "rev = str [::-1]\n",
        "if str==rev:\n",
        "  print(\"palindrome\")\n",
        "else:\n",
        "  print(\"not a palindrome\")"
      ],
      "metadata": {
        "id": "vixsdWXD5HIQ",
        "outputId": "b830a369-db66-4763-ce1d-b039a55d314d",
        "colab": {
          "base_uri": "https://localhost:8080/"
        }
      },
      "execution_count": null,
      "outputs": [
        {
          "output_type": "stream",
          "name": "stdout",
          "text": [
            "Enter a string: level\n",
            "palindrome\n"
          ]
        }
      ]
    },
    {
      "cell_type": "code",
      "source": [
        "#list\n",
        "l = [10,20,30,1.1,'NTT']\n",
        "print(l)\n",
        "print(type(l))\n"
      ],
      "metadata": {
        "id": "5hc-qRYc6XQ_",
        "colab": {
          "base_uri": "https://localhost:8080/"
        },
        "outputId": "8e84b6b4-70f5-40a0-fd62-578491995bda"
      },
      "execution_count": 2,
      "outputs": [
        {
          "output_type": "stream",
          "name": "stdout",
          "text": [
            "[10, 20, 30, 1.1, 'NTT']\n",
            "<class 'list'>\n"
          ]
        }
      ]
    },
    {
      "cell_type": "code",
      "source": [
        "#list indexing\n",
        "l1 = [10,20,3.15,\"NTT\",[1,2,3]]\n",
        "print(l1[1])\n",
        "\n",
        "print(l1[-1])\n",
        "print(l1[-2])\n",
        "print(l1[4][2])"
      ],
      "metadata": {
        "colab": {
          "base_uri": "https://localhost:8080/"
        },
        "id": "JpVx-J-iRGG8",
        "outputId": "5472f122-b421-4cc7-f0f0-bd5ed21419cd"
      },
      "execution_count": 7,
      "outputs": [
        {
          "output_type": "stream",
          "name": "stdout",
          "text": [
            "20\n",
            "[1, 2, 3]\n",
            "NTT\n",
            "3\n"
          ]
        }
      ]
    },
    {
      "cell_type": "code",
      "source": [
        "#list slicing\n",
        "l1 = [10,20,3.15,\"NTT\",[1,2,3]]\n",
        "print(l1[::-1])"
      ],
      "metadata": {
        "id": "4BrCpfdBRweU",
        "outputId": "e7319d1a-498a-4a65-f8ff-734480934ae4",
        "colab": {
          "base_uri": "https://localhost:8080/"
        }
      },
      "execution_count": 8,
      "outputs": [
        {
          "output_type": "stream",
          "name": "stdout",
          "text": [
            "[[1, 2, 3], 'NTT', 3.15, 20, 10]\n"
          ]
        }
      ]
    },
    {
      "cell_type": "code",
      "source": [
        "#concatination\n",
        "l1 = [10,20,30]\n",
        "l2 = [40,50,60]\n",
        "print(l1+l2)\n",
        "l3 = l1+l2\n",
        "print(l3)\n",
        "l4 = l2+l1\n",
        "print(l4)"
      ],
      "metadata": {
        "id": "jhEJ0p8FSdL9",
        "outputId": "1afbaada-ec15-4cd1-e8ab-b975074de092",
        "colab": {
          "base_uri": "https://localhost:8080/"
        }
      },
      "execution_count": 14,
      "outputs": [
        {
          "output_type": "stream",
          "name": "stdout",
          "text": [
            "[10, 20, 30, 40, 50, 60]\n",
            "[10, 20, 30, 40, 50, 60]\n",
            "[40, 50, 60, 10, 20, 30]\n"
          ]
        }
      ]
    },
    {
      "cell_type": "code",
      "source": [
        "#multiplication\n",
        "l1=[10,20,30]\n",
        "print(l1*3)\n"
      ],
      "metadata": {
        "id": "2CyNnP-RTLd8",
        "outputId": "3d01f649-2a32-4e41-8351-820ab1d084c7",
        "colab": {
          "base_uri": "https://localhost:8080/"
        }
      },
      "execution_count": 15,
      "outputs": [
        {
          "output_type": "stream",
          "name": "stdout",
          "text": [
            "[10, 20, 30, 10, 20, 30, 10, 20, 30]\n"
          ]
        }
      ]
    },
    {
      "cell_type": "code",
      "source": [
        "#list itration\n",
        "l1=[10,20,30]\n",
        "print(l1)\n",
        "for i in l1:\n",
        "  print(i)"
      ],
      "metadata": {
        "id": "RiDyHIcwUMpj",
        "outputId": "3c146b70-571a-4e3c-ffcb-ef9c3ec3b7a5",
        "colab": {
          "base_uri": "https://localhost:8080/"
        }
      },
      "execution_count": 21,
      "outputs": [
        {
          "output_type": "stream",
          "name": "stdout",
          "text": [
            "[10, 20, 30]\n",
            "10\n",
            "20\n",
            "30\n"
          ]
        }
      ]
    },
    {
      "cell_type": "code",
      "source": [
        "#list membership\n",
        "l1=[10,20,30]\n",
        "print(10 in l1)\n",
        "print(10 not in l1)"
      ],
      "metadata": {
        "id": "zXlYhJO8UPfD",
        "outputId": "3ef9b0ca-e278-48e7-c437-4176555e44aa",
        "colab": {
          "base_uri": "https://localhost:8080/"
        }
      },
      "execution_count": 18,
      "outputs": [
        {
          "output_type": "stream",
          "name": "stdout",
          "text": [
            "True\n",
            "False\n"
          ]
        }
      ]
    },
    {
      "cell_type": "code",
      "source": [
        "#list deletion\n",
        "l1=[10,20,30,40]\n",
        "print(l1)\n",
        "del l1[0:2]\n",
        "print(l1)"
      ],
      "metadata": {
        "id": "p2LVEDW9USN0",
        "outputId": "5e852472-6190-4f56-dce2-50682866cf90",
        "colab": {
          "base_uri": "https://localhost:8080/"
        }
      },
      "execution_count": 20,
      "outputs": [
        {
          "output_type": "stream",
          "name": "stdout",
          "text": [
            "[10, 20, 30, 40]\n",
            "[30, 40]\n"
          ]
        }
      ]
    },
    {
      "cell_type": "code",
      "source": [
        "#max element\n",
        "l1=[10,20,30]\n",
        "print(max(l1))\n",
        "print(min(l1))\n",
        "\n",
        "l2=[\"Appleaa\",\"Amma\",\"Bannana\"] # due to asci value\n",
        "print(max(l2,key = len)) # key = len means will find length of the string rather than asci\n",
        "print(min(l2))"
      ],
      "metadata": {
        "id": "vhHpadf8VKKd",
        "outputId": "c8d48c31-b9da-4de4-894d-f72da749f72d",
        "colab": {
          "base_uri": "https://localhost:8080/"
        }
      },
      "execution_count": 27,
      "outputs": [
        {
          "output_type": "stream",
          "name": "stdout",
          "text": [
            "30\n",
            "10\n",
            "Appleaa\n",
            "Amma\n"
          ]
        }
      ]
    },
    {
      "cell_type": "code",
      "source": [
        "#apend method\n",
        "l1=[10,20,30]\n",
        "l1.append(1.234)\n",
        "print(l1)\n"
      ],
      "metadata": {
        "id": "WeoZKO61XEB1",
        "outputId": "b6327b12-b7a1-4700-9777-68af09b8490e",
        "colab": {
          "base_uri": "https://localhost:8080/"
        }
      },
      "execution_count": 28,
      "outputs": [
        {
          "output_type": "stream",
          "name": "stdout",
          "text": [
            "[10, 20, 30, 1.234]\n"
          ]
        }
      ]
    },
    {
      "cell_type": "code",
      "source": [
        "#append multiple elements\n",
        "k=[1,2,3,4,5]\n",
        "i=0\n",
        "while i<5:\n",
        "  l=int(input(\"Enter a number: \"))\n",
        "  k.append(l)\n",
        "  i=i+1\n",
        "print(k)\n"
      ],
      "metadata": {
        "id": "LRv-2E_vdzQu",
        "outputId": "af994916-7115-4bee-c074-25c3d2f721eb",
        "colab": {
          "base_uri": "https://localhost:8080/"
        }
      },
      "execution_count": 30,
      "outputs": [
        {
          "output_type": "stream",
          "name": "stdout",
          "text": [
            "Enter a number: 1\n",
            "Enter a number: 1\n",
            "Enter a number: 1\n",
            "Enter a number: 2\n",
            "Enter a number: 2\n",
            "[1, 2, 3, 4, 5, 1, 1, 1, 2, 2]\n"
          ]
        }
      ]
    },
    {
      "cell_type": "code",
      "source": [
        "#extend\n",
        "l1=[10,20,30]\n",
        "l2=[40,50,60, \"NTT\"]\n",
        "l1.extend(l2)\n",
        "print(l1)\n"
      ],
      "metadata": {
        "id": "Mg1IIrRSejl9",
        "outputId": "23c8dd0c-e933-4afe-e2b5-1a87bcb8d376",
        "colab": {
          "base_uri": "https://localhost:8080/"
        }
      },
      "execution_count": 32,
      "outputs": [
        {
          "output_type": "stream",
          "name": "stdout",
          "text": [
            "[10, 20, 30, 40, 50, 60, 'NTT']\n"
          ]
        }
      ]
    },
    {
      "cell_type": "code",
      "source": [
        "#extend\n",
        "l1=[10,20,30]\n",
        "l2=[\"NTT\"]\n",
        "l1.extend(l2)\n",
        "print(l1)\n"
      ],
      "metadata": {
        "id": "nNTb7Gl5fAUN",
        "outputId": "d9182865-5d78-457f-b077-01ee1e7068de",
        "colab": {
          "base_uri": "https://localhost:8080/"
        }
      },
      "execution_count": 33,
      "outputs": [
        {
          "output_type": "stream",
          "name": "stdout",
          "text": [
            "[10, 20, 30, 'NTT']\n"
          ]
        }
      ]
    },
    {
      "cell_type": "code",
      "source": [
        "#extend\n",
        "l1=[10,20,30]\n",
        "l1.extend(\"NTT data\")\n",
        "print(l1)"
      ],
      "metadata": {
        "id": "iCQ9iky9f4Hd",
        "outputId": "55072191-ed02-4580-aa31-19b0d189e7a0",
        "colab": {
          "base_uri": "https://localhost:8080/"
        }
      },
      "execution_count": 40,
      "outputs": [
        {
          "output_type": "stream",
          "name": "stdout",
          "text": [
            "[10, 20, 30, 'N', 'T', 'T', ' ', 'd', 'a', 't', 'a']\n"
          ]
        }
      ]
    },
    {
      "cell_type": "code",
      "source": [
        "#insert\n",
        "l1=[10,20,30]\n",
        "l1.insert(0,100)\n",
        "l1.insert(0,\"NTT\")\n",
        "print(l1)"
      ],
      "metadata": {
        "id": "G7lj4VnJgZg1",
        "outputId": "cb149fb8-64b5-4b33-9be9-d2c37f98acc4",
        "colab": {
          "base_uri": "https://localhost:8080/"
        }
      },
      "execution_count": 39,
      "outputs": [
        {
          "output_type": "stream",
          "name": "stdout",
          "text": [
            "['NTT', 100, 10, 20, 30]\n"
          ]
        }
      ]
    },
    {
      "cell_type": "code",
      "source": [
        "#remove\n",
        "l1=[10,20,30,40,10,10,10]\n",
        "l1.remove(10)\n",
        "print(l1)"
      ],
      "metadata": {
        "id": "Tr_ozTL7iWlm",
        "outputId": "dec1b1f6-946a-41dc-9d01-362d529745ff",
        "colab": {
          "base_uri": "https://localhost:8080/"
        }
      },
      "execution_count": 41,
      "outputs": [
        {
          "output_type": "stream",
          "name": "stdout",
          "text": [
            "[20, 30, 40, 10, 10, 10]\n"
          ]
        }
      ]
    },
    {
      "cell_type": "code",
      "source": [
        "#pop\n",
        "l1=[10,20,30,40,50,60]\n",
        "l1.pop(5)\n",
        "print(l1)\n",
        "print(l1.pop())\n",
        "\n",
        "print(l1)\n"
      ],
      "metadata": {
        "id": "oo4nlAI8imHe",
        "outputId": "d9e2d9dd-cd85-4035-d116-e6c65a13cb09",
        "colab": {
          "base_uri": "https://localhost:8080/"
        }
      },
      "execution_count": 47,
      "outputs": [
        {
          "output_type": "stream",
          "name": "stdout",
          "text": [
            "[10, 20, 30, 40, 50]\n",
            "50\n",
            "[10, 20, 30, 40]\n"
          ]
        }
      ]
    },
    {
      "cell_type": "code",
      "source": [
        "#clear\n",
        "l1=[10,20,30,40,50,60]\n",
        "l1.clear()\n",
        "print(l1)"
      ],
      "metadata": {
        "id": "NTCICaptkSsf",
        "outputId": "ef4bd237-47ad-4e0e-9581-b05aa772c2c1",
        "colab": {
          "base_uri": "https://localhost:8080/"
        }
      },
      "execution_count": 48,
      "outputs": [
        {
          "output_type": "stream",
          "name": "stdout",
          "text": [
            "[]\n"
          ]
        }
      ]
    },
    {
      "cell_type": "code",
      "source": [
        "#delete\n",
        "l1=[10,20,30,40,50,60]\n",
        "l1.del()\n",
        "# print(l1)"
      ],
      "metadata": {
        "id": "mP2V2alEklkX",
        "outputId": "c5f1f5c4-3ac7-4831-eefa-b5efccce8aad",
        "colab": {
          "base_uri": "https://localhost:8080/",
          "height": 106
        }
      },
      "execution_count": 52,
      "outputs": [
        {
          "output_type": "error",
          "ename": "SyntaxError",
          "evalue": "invalid syntax (<ipython-input-52-0e5d2d87a28e>, line 3)",
          "traceback": [
            "\u001b[0;36m  File \u001b[0;32m\"<ipython-input-52-0e5d2d87a28e>\"\u001b[0;36m, line \u001b[0;32m3\u001b[0m\n\u001b[0;31m    l1.del()\u001b[0m\n\u001b[0m       ^\u001b[0m\n\u001b[0;31mSyntaxError\u001b[0m\u001b[0;31m:\u001b[0m invalid syntax\n"
          ]
        }
      ]
    }
  ]
}