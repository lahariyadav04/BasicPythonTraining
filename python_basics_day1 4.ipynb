{
  "nbformat": 4,
  "nbformat_minor": 0,
  "metadata": {
    "colab": {
      "provenance": []
    },
    "kernelspec": {
      "name": "python3",
      "display_name": "Python 3"
    },
    "language_info": {
      "name": "python"
    }
  },
  "cells": [
    {
      "cell_type": "code",
      "execution_count": null,
      "metadata": {
        "colab": {
          "base_uri": "https://localhost:8080/"
        },
        "id": "fooBKl8FmcO4",
        "outputId": "803c4e73-9e1f-4bec-e3d7-fe913dbc7733"
      },
      "outputs": [
        {
          "output_type": "stream",
          "name": "stdout",
          "text": [
            "welcome to Python world\n"
          ]
        }
      ],
      "source": [
        "print(\"welcome to Python world\")"
      ]
    },
    {
      "cell_type": "code",
      "source": [
        "print(\"Lahari\")\n"
      ],
      "metadata": {
        "colab": {
          "base_uri": "https://localhost:8080/"
        },
        "id": "yuXMQeruy6bi",
        "outputId": "f45cbc2f-86e0-4354-f90b-c53895b443a0"
      },
      "execution_count": null,
      "outputs": [
        {
          "output_type": "stream",
          "name": "stdout",
          "text": [
            "Lahari\n"
          ]
        }
      ]
    },
    {
      "cell_type": "code",
      "source": [
        "2+3"
      ],
      "metadata": {
        "colab": {
          "base_uri": "https://localhost:8080/"
        },
        "id": "456iibnZml4b",
        "outputId": "98005d39-dad6-427f-90f5-a6fad527d64b"
      },
      "execution_count": null,
      "outputs": [
        {
          "output_type": "execute_result",
          "data": {
            "text/plain": [
              "5"
            ]
          },
          "metadata": {},
          "execution_count": 2
        }
      ]
    },
    {
      "cell_type": "code",
      "source": [
        "a=10\n",
        "print(a)\n",
        "print(\"a\", id(a))\n",
        "\n",
        "b=10\n",
        "print(b)\n",
        "print(\"b\", id(b))\n",
        "\n",
        "c=a\n",
        "print(\"c\", id(c))\n"
      ],
      "metadata": {
        "colab": {
          "base_uri": "https://localhost:8080/"
        },
        "id": "vj39ndPP8ZOJ",
        "outputId": "6cb69548-55b0-48d2-d910-9268f8ae3b80"
      },
      "execution_count": null,
      "outputs": [
        {
          "output_type": "stream",
          "name": "stdout",
          "text": [
            "10\n",
            "a 10751144\n",
            "10\n",
            "b 10751144\n",
            "c 10751144\n"
          ]
        }
      ]
    },
    {
      "cell_type": "code",
      "source": [],
      "metadata": {
        "id": "aUOlFcUnN7lR"
      },
      "execution_count": null,
      "outputs": []
    },
    {
      "cell_type": "markdown",
      "source": [],
      "metadata": {
        "id": "qpAqFvE_OmEy"
      }
    },
    {
      "cell_type": "markdown",
      "source": [],
      "metadata": {
        "id": "F-sXUtmsOmex"
      }
    },
    {
      "cell_type": "code",
      "source": [],
      "metadata": {
        "id": "X3rWhA_UOnOC"
      },
      "execution_count": null,
      "outputs": []
    },
    {
      "cell_type": "code",
      "source": [
        "#dynamic\n",
        "a=10\n",
        "print(a)\n",
        "print(\"a\", id(a))\n",
        "\n",
        "a=3.14\n",
        "print(a)\n",
        "print(\"a\", id(a))\n",
        "\n",
        "a= \"NTT\"\n",
        "print(a)\n",
        "print"
      ],
      "metadata": {
        "colab": {
          "base_uri": "https://localhost:8080/"
        },
        "id": "FuspXXzg_XXx",
        "outputId": "5c0bf0d3-c6b4-4d44-ec45-534cc2f4fe66"
      },
      "execution_count": null,
      "outputs": [
        {
          "output_type": "stream",
          "name": "stdout",
          "text": [
            "10\n",
            "a 10751144\n",
            "3.14\n",
            "a 134429805331504\n"
          ]
        }
      ]
    },
    {
      "cell_type": "code",
      "source": [
        "#Deleting a Variable\n",
        "a= 20\n",
        "print(a)\n",
        "\n",
        "del a\n",
        "print(a)\n",
        "\n"
      ],
      "metadata": {
        "colab": {
          "base_uri": "https://localhost:8080/"
        },
        "id": "Ugym_hlg8asS",
        "outputId": "08b07013-8667-43d2-8c09-0c816aa1a3cc"
      },
      "execution_count": null,
      "outputs": [
        {
          "output_type": "stream",
          "name": "stdout",
          "text": [
            "20\n"
          ]
        }
      ]
    },
    {
      "cell_type": "code",
      "source": [
        "a= \"NTT Data\"\n",
        "print(a[0:1:1])\n",
        "print(a[0:7:1])\n",
        "print(a[0:-3:1])\n",
        "print(a[-2:-6:1])\n",
        "print(a[-1:-7:-2])\n"
      ],
      "metadata": {
        "id": "xv5swW828a9I",
        "colab": {
          "base_uri": "https://localhost:8080/"
        },
        "outputId": "d681116b-b8ad-46fe-c488-3887834b1b11"
      },
      "execution_count": null,
      "outputs": [
        {
          "output_type": "stream",
          "name": "stdout",
          "text": [
            "N\n",
            "NTT Dat\n",
            "NTT D\n",
            "\n",
            "aa \n"
          ]
        }
      ]
    },
    {
      "cell_type": "markdown",
      "source": [],
      "metadata": {
        "id": "CjKBQhaGp33P"
      }
    },
    {
      "cell_type": "code",
      "source": [
        "#day3\n",
        "# Simple iF Statement\n",
        "if 10>3:\n",
        "  print(\"10 is greater than 3\")\n",
        "  print(\"this is if statement\")\n",
        "\n"
      ],
      "metadata": {
        "id": "KT15QXErkdWP"
      },
      "execution_count": null,
      "outputs": []
    },
    {
      "cell_type": "code",
      "source": [
        "# input Statement\n",
        "name = input(\"Enter your name: \")\n",
        "print(\"Welcome\", name)"
      ],
      "metadata": {
        "colab": {
          "base_uri": "https://localhost:8080/"
        },
        "id": "K1anOig7p7hf",
        "outputId": "0264a454-6616-405a-fc3e-861f75773c21"
      },
      "execution_count": null,
      "outputs": [
        {
          "output_type": "stream",
          "name": "stdout",
          "text": [
            "Enter your name: lahari\n",
            "Welcome lahari\n"
          ]
        }
      ]
    },
    {
      "cell_type": "code",
      "source": [
        "no1 = input(\"Enter first number: \")\n",
        "no2 = input(\"Enter second number: \")\n",
        "print(no1+no2)\n",
        "if no1>no2:\n",
        "  print(\"no1 is greater than no2\")\n",
        "else:\n",
        "  print(\"no2 is greater than no1\")\n"
      ],
      "metadata": {
        "colab": {
          "base_uri": "https://localhost:8080/"
        },
        "id": "CMmQkNybq6nA",
        "outputId": "2ae0b32d-a62f-4ed4-ebf8-e803b9df3eda"
      },
      "execution_count": null,
      "outputs": [
        {
          "output_type": "stream",
          "name": "stdout",
          "text": [
            "Enter first number: 10\n",
            "Enter second number: 6\n",
            "106\n",
            "no2 is greater than no1\n"
          ]
        }
      ]
    },
    {
      "cell_type": "code",
      "source": [
        "age = int(input(\"Enter your age: \"))\n",
        "if age>=18:\n",
        "  print(\"You are eligible to vote\")\n",
        "else:\n",
        "  print(\"You are not eligible to vote\")\n",
        "\n",
        "print(\"Thank you\")"
      ],
      "metadata": {
        "colab": {
          "base_uri": "https://localhost:8080/"
        },
        "id": "SK4HlP2XtQ7g",
        "outputId": "bb69c02a-a551-44f7-ffaa-120d8212fe65"
      },
      "execution_count": null,
      "outputs": [
        {
          "output_type": "stream",
          "name": "stdout",
          "text": [
            "Enter your age: 29\n",
            "You are eligible to vote\n",
            "Thank you\n"
          ]
        }
      ]
    },
    {
      "cell_type": "code",
      "source": [],
      "metadata": {
        "id": "OWkFytIc1Jd2"
      },
      "execution_count": null,
      "outputs": []
    },
    {
      "cell_type": "code",
      "source": [
        "a= int(input(\"Enter first number: \"))\n",
        "b= int(input(\"Enter second number: \"))\n",
        "if a % 2 == 0:  # Colon added and print statement indented\n",
        "    print(\"a is even\")\n",
        "else :\n",
        "    print(\"a is odd\")  # Print statement indented"
      ],
      "metadata": {
        "colab": {
          "base_uri": "https://localhost:8080/"
        },
        "id": "Ae45YGUJt2dz",
        "outputId": "ac7b0062-bca0-450f-c164-3b2d2e2daedb"
      },
      "execution_count": null,
      "outputs": [
        {
          "output_type": "stream",
          "name": "stdout",
          "text": [
            "Enter first number: 2\n",
            "Enter second number: 1\n",
            "a is even\n"
          ]
        }
      ]
    },
    {
      "cell_type": "code",
      "source": [
        "num = int(input(\"Enter a number: \"))\n",
        "i=1\n",
        "while (i<=10):\n",
        "  if (i%2!=0):\n",
        "    print(num, \"*\", i, \"=\", num*i)\n",
        "  i=i+1\n"
      ],
      "metadata": {
        "colab": {
          "base_uri": "https://localhost:8080/"
        },
        "id": "KZo3DVaT4Wxr",
        "outputId": "84162308-eb3c-4adf-8d3f-c812a830a714"
      },
      "execution_count": null,
      "outputs": [
        {
          "output_type": "stream",
          "name": "stdout",
          "text": [
            "Enter a number: 10\n",
            "10 * 1 = 10\n",
            "10 * 3 = 30\n",
            "10 * 5 = 50\n",
            "10 * 7 = 70\n",
            "10 * 9 = 90\n"
          ]
        }
      ]
    },
    {
      "cell_type": "code",
      "source": [
        "from typing import Counter\n",
        "v = ['a','e','i','o','u']\n",
        "st = \"bangalore\".lower()\n",
        "Counter = 0\n",
        "for i in st:\n",
        "  if i in v:\n",
        "    Counter = Counter + 1\n",
        "    print(Counter)\n",
        "\n"
      ],
      "metadata": {
        "id": "A2pooP0u1KeK",
        "outputId": "9b088d3f-db9a-46e6-fad9-796ccd8d2540",
        "colab": {
          "base_uri": "https://localhost:8080/"
        }
      },
      "execution_count": null,
      "outputs": [
        {
          "output_type": "stream",
          "name": "stdout",
          "text": [
            "1\n",
            "2\n",
            "3\n",
            "4\n"
          ]
        }
      ]
    },
    {
      "cell_type": "code",
      "source": [
        " #reverse a string using slicing\n",
        "\n",
        "a = 'NTT'\n",
        "print(a[::-1])"
      ],
      "metadata": {
        "id": "H19ROYZx2U02",
        "outputId": "cfe00a61-61e1-4538-d7e0-51f90e1801da",
        "colab": {
          "base_uri": "https://localhost:8080/"
        }
      },
      "execution_count": null,
      "outputs": [
        {
          "output_type": "stream",
          "name": "stdout",
          "text": [
            "TTN\n"
          ]
        }
      ]
    },
    {
      "cell_type": "code",
      "source": [
        "#palindrome\n",
        "str = input(\"Enter a string: \")\n",
        "rev = str [::-1]\n",
        "if str==rev:\n",
        "  print(\"palindrome\")\n",
        "else:\n",
        "  print(\"not a palindrome\")"
      ],
      "metadata": {
        "id": "vixsdWXD5HIQ",
        "outputId": "b830a369-db66-4763-ce1d-b039a55d314d",
        "colab": {
          "base_uri": "https://localhost:8080/"
        }
      },
      "execution_count": null,
      "outputs": [
        {
          "output_type": "stream",
          "name": "stdout",
          "text": [
            "Enter a string: level\n",
            "palindrome\n"
          ]
        }
      ]
    },
    {
      "cell_type": "code",
      "source": [
        "#list\n",
        "l = [10,20,30,1.1,'NTT']\n",
        "print(l)\n",
        "print(type(l))\n",
        "l.count\n"
      ],
      "metadata": {
        "id": "5hc-qRYc6XQ_",
        "colab": {
          "base_uri": "https://localhost:8080/"
        },
        "outputId": "8e84b6b4-70f5-40a0-fd62-578491995bda"
      },
      "execution_count": null,
      "outputs": [
        {
          "output_type": "stream",
          "name": "stdout",
          "text": [
            "[10, 20, 30, 1.1, 'NTT']\n",
            "<class 'list'>\n"
          ]
        }
      ]
    },
    {
      "cell_type": "code",
      "source": [
        "#list indexing\n",
        "l1 = [10,20,3.15,\"NTT\",[1,2,3]]\n",
        "print(l1[1])\n",
        "\n",
        "print(l1[-1])\n",
        "print(l1[-2])\n",
        "print(l1[4][2])"
      ],
      "metadata": {
        "colab": {
          "base_uri": "https://localhost:8080/"
        },
        "id": "JpVx-J-iRGG8",
        "outputId": "5472f122-b421-4cc7-f0f0-bd5ed21419cd"
      },
      "execution_count": null,
      "outputs": [
        {
          "output_type": "stream",
          "name": "stdout",
          "text": [
            "20\n",
            "[1, 2, 3]\n",
            "NTT\n",
            "3\n"
          ]
        }
      ]
    },
    {
      "cell_type": "code",
      "source": [
        "#list slicing\n",
        "l1 = [10,20,3.15,\"NTT\",[1,2,3],\"a\"]\n",
        "l2=l1\n",
        "l2.append(40)\n",
        "print(l1)\n",
        "print(l2)\n",
        "print(l1[::2])\n",
        "print(l1[::-1])\n",
        "print(l1[2:4])\n"
      ],
      "metadata": {
        "colab": {
          "base_uri": "https://localhost:8080/"
        },
        "id": "4BrCpfdBRweU",
        "outputId": "7d7e350b-976d-4f14-fb95-8ad026402921"
      },
      "execution_count": 4,
      "outputs": [
        {
          "output_type": "stream",
          "name": "stdout",
          "text": [
            "[10, 20, 3.15, 'NTT', [1, 2, 3], 'a', 40]\n",
            "[10, 20, 3.15, 'NTT', [1, 2, 3], 'a', 40]\n",
            "[10, 3.15, [1, 2, 3], 40]\n",
            "[40, 'a', [1, 2, 3], 'NTT', 3.15, 20, 10]\n",
            "[3.15, 'NTT']\n"
          ]
        }
      ]
    },
    {
      "cell_type": "code",
      "source": [
        "names_ages = {'John': 35, 'Jim': 45, 'Alice': 25}\n",
        "names_ages['John']\n",
        "set_1 = {2, 4, 6, 8}\n",
        "set_2 = {1, 2, 5, 6, 7, 8}\n",
        "set_1.union(set_2) #gets all the unique from both the lists\n",
        "names_ages = [['John', 35], ['Jim', 45], ['Alice',25]]\n",
        "to_dict = dict(names_ages)\n",
        "to_dict"
      ],
      "metadata": {
        "colab": {
          "base_uri": "https://localhost:8080/"
        },
        "id": "YaJH2ICRVEJB",
        "outputId": "9aa6863f-b985-4695-e251-9a812e5c600f"
      },
      "execution_count": 15,
      "outputs": [
        {
          "output_type": "execute_result",
          "data": {
            "text/plain": [
              "{'John': 35, 'Jim': 45, 'Alice': 25}"
            ]
          },
          "metadata": {},
          "execution_count": 15
        }
      ]
    },
    {
      "cell_type": "code",
      "source": [
        "dict_a = {\"John\": 35,\" Jim\": 22, \"Jill\": 44}\n",
        "dict_copy = dict_a.copy()\n",
        "dict_copy['John'] = 40\n",
        "del dict_copy['John']\n",
        "print(dict_a)\n",
        "print(dict_copy)"
      ],
      "metadata": {
        "colab": {
          "base_uri": "https://localhost:8080/"
        },
        "id": "o3VEwLpBNYWR",
        "outputId": "bd704b29-1fd3-4c9d-819c-d25eae825c7f"
      },
      "execution_count": 9,
      "outputs": [
        {
          "output_type": "stream",
          "name": "stdout",
          "text": [
            "{'John': 35, ' Jim': 22, 'Jill': 44}\n",
            "{' Jim': 22, 'Jill': 44}\n"
          ]
        }
      ]
    },
    {
      "cell_type": "code",
      "source": [
        "dict_a = {\"John\": 35,\" Jim\": 22, \"Jill\": 44}\n",
        "dict_copy = dict_a\n",
        "dict_copy['John'] = 40\n",
        "del dict_copy['John']\n",
        "print(dict_a)\n",
        "print(dict_copy)"
      ],
      "metadata": {
        "colab": {
          "base_uri": "https://localhost:8080/"
        },
        "id": "CwwuWNX-RqCD",
        "outputId": "58d9a6a7-914c-4cec-8940-f8de089ff4e2"
      },
      "execution_count": 10,
      "outputs": [
        {
          "output_type": "stream",
          "name": "stdout",
          "text": [
            "{' Jim': 22, 'Jill': 44}\n",
            "{' Jim': 22, 'Jill': 44}\n"
          ]
        }
      ]
    },
    {
      "cell_type": "code",
      "source": [
        "old_list= [1, 2, 3]\n",
        "new_list = old_list.copy()\n",
        "new_list.append('a')\n",
        "print('New List:', new_list)\n",
        "print('Old List:', old_list)"
      ],
      "metadata": {
        "colab": {
          "base_uri": "https://localhost:8080/"
        },
        "id": "JgWniZGVSCjw",
        "outputId": "f66d769c-179d-4033-de9f-9290c0db3b2c"
      },
      "execution_count": 11,
      "outputs": [
        {
          "output_type": "stream",
          "name": "stdout",
          "text": [
            "New List: [1, 2, 3, 'a']\n",
            "Old List: [1, 2, 3]\n"
          ]
        }
      ]
    },
    {
      "cell_type": "code",
      "source": [
        "list(range(2, 14, 4))\n",
        "print(list(range(2, 14, 4)))"
      ],
      "metadata": {
        "colab": {
          "base_uri": "https://localhost:8080/"
        },
        "id": "QEhdnJzJdnFM",
        "outputId": "035f18ab-4095-4cac-82f1-4fd115c34840"
      },
      "execution_count": 11,
      "outputs": [
        {
          "output_type": "stream",
          "name": "stdout",
          "text": [
            "[2, 6, 10]\n"
          ]
        }
      ]
    },
    {
      "cell_type": "code",
      "source": [
        "mylist = [\"a\", \"b\", \"c\", \"d\", \"e\", \"f\"]\n",
        "print(mylist[2:5])\n"
      ],
      "metadata": {
        "colab": {
          "base_uri": "https://localhost:8080/"
        },
        "id": "KVDgs7Qmd1Hm",
        "outputId": "5cbb2387-0422-4b03-c736-385f51f6ab31"
      },
      "execution_count": 13,
      "outputs": [
        {
          "output_type": "stream",
          "name": "stdout",
          "text": [
            "['c', 'd', 'e']\n"
          ]
        }
      ]
    },
    {
      "cell_type": "code",
      "source": [
        "friends = [\"Annabelle\", \"Greg\", \"Katya\", \"Sol\"]\n",
        "\n",
        "#insert(friends,2,\"gus\")\n",
        "friends.insert(-2,\"gus\")\n",
        "print(friends)\n",
        "print(friends.count(\"Greg\"))"
      ],
      "metadata": {
        "colab": {
          "base_uri": "https://localhost:8080/"
        },
        "id": "WUC-Lh8ZJ77m",
        "outputId": "36e5756a-74f9-4fab-b3f8-af72cd7fbd5a"
      },
      "execution_count": 9,
      "outputs": [
        {
          "output_type": "stream",
          "name": "stdout",
          "text": [
            "['Annabelle', 'Greg', 'gus', 'Katya', 'Sol']\n",
            "1\n"
          ]
        }
      ]
    },
    {
      "cell_type": "code",
      "source": [
        "olympic_sports = [\"Hockey\", \"Swimming\", \"Fencing\", \"Volleyball\", \"Breakdancing\"]\n",
        "olympic_sports.remove(\"Breakdancing\")\n",
        "print(olympic_sports)"
      ],
      "metadata": {
        "colab": {
          "base_uri": "https://localhost:8080/"
        },
        "id": "Y8Zyog85ehIl",
        "outputId": "eb181b5e-eaab-4df5-d0f5-81ed46b0a4ed"
      },
      "execution_count": 1,
      "outputs": [
        {
          "output_type": "stream",
          "name": "stdout",
          "text": [
            "['Hockey', 'Swimming', 'Fencing', 'Volleyball']\n"
          ]
        }
      ]
    },
    {
      "cell_type": "code",
      "source": [
        "inventory = {\"iron spear\": 12, \"invisible knife\": 30, \"needle of ambition\": 10, \"stone glove\": 20}\n",
        "\n",
        "inventory[\"invisible knife\"] = 40\n",
        "inventory[\"mithril shield\"] = 25\n",
        "print(inventory)"
      ],
      "metadata": {
        "colab": {
          "base_uri": "https://localhost:8080/"
        },
        "id": "-vxTAz-bBPWk",
        "outputId": "77cca098-40d3-4a06-ddcb-5748bd92987f"
      },
      "execution_count": 4,
      "outputs": [
        {
          "output_type": "stream",
          "name": "stdout",
          "text": [
            "{'iron spear': 12, 'invisible knife': 40, 'needle of ambition': 10, 'stone glove': 20, 'mithril shield': 25}\n"
          ]
        }
      ]
    },
    {
      "cell_type": "code",
      "source": [
        "raffle = {223842: \"Teddy Bear\", 872921: \"Concert Tickets\", 320291: \"Gift Basket\", 412123: \"Necklace\", 298787: \"Pasta Maker\"}\n",
        "\n",
        "raffle.pop(561721, \"No Value\")\n",
        "print(raffle)"
      ],
      "metadata": {
        "colab": {
          "base_uri": "https://localhost:8080/"
        },
        "id": "2BIRWd2TjKNa",
        "outputId": "b917bc70-9753-4735-e156-3bfd773516ac"
      },
      "execution_count": 1,
      "outputs": [
        {
          "output_type": "stream",
          "name": "stdout",
          "text": [
            "{223842: 'Teddy Bear', 872921: 'Concert Tickets', 320291: 'Gift Basket', 412123: 'Necklace', 298787: 'Pasta Maker'}\n"
          ]
        }
      ]
    },
    {
      "cell_type": "code",
      "source": [
        "combo_meals = {1: [\"hamburger\", \"fries\"], 2: [\"hamburger\", \"fries\", \"soda\"], 4: [\"veggie burger\", \"salad\", \"soda\"], 6: [\"hot dog\", \"apple slices\", \"orange juice\"]}\n",
        "print(combo_meals[2])"
      ],
      "metadata": {
        "colab": {
          "base_uri": "https://localhost:8080/"
        },
        "id": "1rKnMRPxjZiX",
        "outputId": "cf03375f-92f3-46b8-8b7b-091b0d91d9fb"
      },
      "execution_count": 2,
      "outputs": [
        {
          "output_type": "stream",
          "name": "stdout",
          "text": [
            "['hamburger', 'fries', 'soda']\n"
          ]
        }
      ]
    },
    {
      "cell_type": "code",
      "source": [
        "combo_meals = {1: [\"hamburger\", \"fries\"], 2: [\"hamburger\", \"fries\", \"soda\"], 4: [\"veggie burger\", \"salad\", \"soda\"], 6: [\"hot dog\", \"apple slices\", \"orange juice\"]}\n",
        "print(combo_meals[3])"
      ],
      "metadata": {
        "colab": {
          "base_uri": "https://localhost:8080/",
          "height": 176
        },
        "id": "nIVJd0BOjk1N",
        "outputId": "641567f2-742f-4fa2-bc2b-cc1c8aeab209"
      },
      "execution_count": 3,
      "outputs": [
        {
          "output_type": "error",
          "ename": "KeyError",
          "evalue": "3",
          "traceback": [
            "\u001b[0;31m---------------------------------------------------------------------------\u001b[0m",
            "\u001b[0;31mKeyError\u001b[0m                                  Traceback (most recent call last)",
            "\u001b[0;32m<ipython-input-3-388685345>\u001b[0m in \u001b[0;36m<cell line: 0>\u001b[0;34m()\u001b[0m\n\u001b[1;32m      1\u001b[0m \u001b[0mcombo_meals\u001b[0m \u001b[0;34m=\u001b[0m \u001b[0;34m{\u001b[0m\u001b[0;36m1\u001b[0m\u001b[0;34m:\u001b[0m \u001b[0;34m[\u001b[0m\u001b[0;34m\"hamburger\"\u001b[0m\u001b[0;34m,\u001b[0m \u001b[0;34m\"fries\"\u001b[0m\u001b[0;34m]\u001b[0m\u001b[0;34m,\u001b[0m \u001b[0;36m2\u001b[0m\u001b[0;34m:\u001b[0m \u001b[0;34m[\u001b[0m\u001b[0;34m\"hamburger\"\u001b[0m\u001b[0;34m,\u001b[0m \u001b[0;34m\"fries\"\u001b[0m\u001b[0;34m,\u001b[0m \u001b[0;34m\"soda\"\u001b[0m\u001b[0;34m]\u001b[0m\u001b[0;34m,\u001b[0m \u001b[0;36m4\u001b[0m\u001b[0;34m:\u001b[0m \u001b[0;34m[\u001b[0m\u001b[0;34m\"veggie burger\"\u001b[0m\u001b[0;34m,\u001b[0m \u001b[0;34m\"salad\"\u001b[0m\u001b[0;34m,\u001b[0m \u001b[0;34m\"soda\"\u001b[0m\u001b[0;34m]\u001b[0m\u001b[0;34m,\u001b[0m \u001b[0;36m6\u001b[0m\u001b[0;34m:\u001b[0m \u001b[0;34m[\u001b[0m\u001b[0;34m\"hot dog\"\u001b[0m\u001b[0;34m,\u001b[0m \u001b[0;34m\"apple slices\"\u001b[0m\u001b[0;34m,\u001b[0m \u001b[0;34m\"orange juice\"\u001b[0m\u001b[0;34m]\u001b[0m\u001b[0;34m}\u001b[0m\u001b[0;34m\u001b[0m\u001b[0;34m\u001b[0m\u001b[0m\n\u001b[0;32m----> 2\u001b[0;31m \u001b[0mprint\u001b[0m\u001b[0;34m(\u001b[0m\u001b[0mcombo_meals\u001b[0m\u001b[0;34m[\u001b[0m\u001b[0;36m3\u001b[0m\u001b[0;34m]\u001b[0m\u001b[0;34m)\u001b[0m\u001b[0;34m\u001b[0m\u001b[0;34m\u001b[0m\u001b[0m\n\u001b[0m",
            "\u001b[0;31mKeyError\u001b[0m: 3"
          ]
        }
      ]
    },
    {
      "cell_type": "code",
      "source": [
        "inventory = {\"iron spear\": 12, \"invisible knife\": 30, \"needle of ambition\": 10, \"stone glove\": 20, \"the peacemaker\": 65, \"demonslayer\": 50}\n",
        "\n",
        "print(12 in inventory)"
      ],
      "metadata": {
        "colab": {
          "base_uri": "https://localhost:8080/"
        },
        "id": "jUJsguBNjq1N",
        "outputId": "8a4b5d58-55e0-446d-fba6-536f87b30b55"
      },
      "execution_count": 4,
      "outputs": [
        {
          "output_type": "stream",
          "name": "stdout",
          "text": [
            "False\n"
          ]
        }
      ]
    },
    {
      "cell_type": "code",
      "source": [
        "oscars = {\"Best Picture\": \"Moonlight\", \"Best Actor\": \"Casey Affleck\", \"Best Actress\": \"Emma Stone\", \"Animated Feature\": \"Zootopia\"}\n",
        "\n",
        "for element in oscars.values():\n",
        "  print(element)"
      ],
      "metadata": {
        "colab": {
          "base_uri": "https://localhost:8080/"
        },
        "id": "BUubmOFtjxm6",
        "outputId": "8c74fa3c-a27a-47ca-eeb6-81fce178137e"
      },
      "execution_count": 5,
      "outputs": [
        {
          "output_type": "stream",
          "name": "stdout",
          "text": [
            "Moonlight\n",
            "Casey Affleck\n",
            "Emma Stone\n",
            "Zootopia\n"
          ]
        }
      ]
    },
    {
      "cell_type": "code",
      "source": [
        "inventory = {\"iron spear\": 12, \"invisible knife\": 30, \"needle of ambition\": 10, \"stone glove\": 20, \"the peacemaker\": 65, \"demonslayer\": 50}\n",
        "print(inventory.get(\"stone glove\", 30))"
      ],
      "metadata": {
        "colab": {
          "base_uri": "https://localhost:8080/"
        },
        "id": "w-MAftDQj3Fl",
        "outputId": "70bbc955-9e46-475e-9e76-c87f40969e31"
      },
      "execution_count": 6,
      "outputs": [
        {
          "output_type": "stream",
          "name": "stdout",
          "text": [
            "20\n"
          ]
        }
      ]
    },
    {
      "cell_type": "code",
      "source": [
        "oscars = {\"Best Picture\": \"Moonlight\", \"Best Actor\": \"Casey Affleck\", \"Best Actress\": \"Emma Stone\", \"Animated Feature\": \"Zootopia\"}\n",
        "\n",
        "for element in oscars:\n",
        "  print(element)"
      ],
      "metadata": {
        "colab": {
          "base_uri": "https://localhost:8080/"
        },
        "id": "ZclgTvV_j8OG",
        "outputId": "a4c23cf3-22b6-4a18-ec52-e91fc6d67cf6"
      },
      "execution_count": 7,
      "outputs": [
        {
          "output_type": "stream",
          "name": "stdout",
          "text": [
            "Best Picture\n",
            "Best Actor\n",
            "Best Actress\n",
            "Animated Feature\n"
          ]
        }
      ]
    },
    {
      "cell_type": "code",
      "source": [
        "combo_meals = {1: [\"hamburger\", \"fries\"], 2: [\"hamburger\", \"fries\", \"soda\"], 4: [\"veggie burger\", \"salad\", \"soda\"], 6: [\"hot dog\", \"apple slices\", \"orange juice\"]}\n",
        "print(combo_meals.get(3, [\"hamburger\", \"fries\"]))"
      ],
      "metadata": {
        "colab": {
          "base_uri": "https://localhost:8080/"
        },
        "id": "XTgIxlWMkByV",
        "outputId": "fcfda5d9-a62f-443c-a97c-ef5f85818e22"
      },
      "execution_count": 8,
      "outputs": [
        {
          "output_type": "stream",
          "name": "stdout",
          "text": [
            "['hamburger', 'fries']\n"
          ]
        }
      ]
    },
    {
      "cell_type": "code",
      "source": [
        "inventory = {\"iron spear\": 12, \"invisible knife\": 30, \"needle of ambition\": 10, \"stone glove\": 20, \"the peacemaker\": 65, \"demonslayer\": 50}\n",
        "\n",
        "print(\"the peacemaker\" in inventory)"
      ],
      "metadata": {
        "colab": {
          "base_uri": "https://localhost:8080/"
        },
        "id": "D0coC-6hkHai",
        "outputId": "ce567653-0326-4d81-af41-2273c17c0bf8"
      },
      "execution_count": 9,
      "outputs": [
        {
          "output_type": "stream",
          "name": "stdout",
          "text": [
            "True\n"
          ]
        }
      ]
    },
    {
      "cell_type": "code",
      "source": [
        "def print_some_characters(word):\n",
        "  for i in range(len(word)):\n",
        "    if i % 2 == 0:\n",
        "      print(word[i])\n",
        "\n",
        "print_some_characters(\"watermelon\")"
      ],
      "metadata": {
        "colab": {
          "base_uri": "https://localhost:8080/"
        },
        "id": "EiyGNj0hsZse",
        "outputId": "9fdfd177-3572-4910-a005-4f39752d3bef"
      },
      "execution_count": 10,
      "outputs": [
        {
          "output_type": "stream",
          "name": "stdout",
          "text": [
            "w\n",
            "t\n",
            "r\n",
            "e\n",
            "o\n"
          ]
        }
      ]
    },
    {
      "cell_type": "code",
      "source": [
        "cool_fruit = \"watermelon\"\n",
        "cool_fruit[len(cool_fruit) - 2]"
      ],
      "metadata": {
        "colab": {
          "base_uri": "https://localhost:8080/",
          "height": 35
        },
        "id": "Bmuq1Xr9sjxM",
        "outputId": "32dd0c2b-1fcc-4891-f8d4-32fa0d84fdcb"
      },
      "execution_count": 11,
      "outputs": [
        {
          "output_type": "execute_result",
          "data": {
            "text/plain": [
              "'o'"
            ],
            "application/vnd.google.colaboratory.intrinsic+json": {
              "type": "string"
            }
          },
          "metadata": {},
          "execution_count": 11
        }
      ]
    },
    {
      "cell_type": "code",
      "source": [
        "def tell_me_about_icecream(favorite_icecream):\n",
        "  response = \"My favorite icecream is\" + favorite_icecream + \".\"\n",
        "  print(response)\n",
        "\n",
        "tell_me_about_icecream(\"chocolate\")"
      ],
      "metadata": {
        "id": "gwgTBGf2sq-k"
      },
      "execution_count": null,
      "outputs": []
    },
    {
      "cell_type": "code",
      "source": [
        "def tell_me_about_icecream(favorite_icecream):\n",
        "  response = \"My favorite icecream is\" + favorite_icecream + \".\"\n",
        "  print(response)\n",
        "\n",
        "tell_me_about_icecream(\"chocolate\")"
      ],
      "metadata": {
        "colab": {
          "base_uri": "https://localhost:8080/"
        },
        "id": "BN8udixsssWH",
        "outputId": "af99b7f2-0aa3-4ca5-8772-c9b2ae7d4f90"
      },
      "execution_count": 12,
      "outputs": [
        {
          "output_type": "stream",
          "name": "stdout",
          "text": [
            "My favorite icecream ischocolate.\n"
          ]
        }
      ]
    },
    {
      "cell_type": "code",
      "source": [
        "least_favorite_fruit = \"cantaloupe\"\n",
        "print(least_favorite_fruit[5:7])\n"
      ],
      "metadata": {
        "colab": {
          "base_uri": "https://localhost:8080/"
        },
        "id": "Q25TPSRTs7mj",
        "outputId": "a3aa51c6-33ff-4bc9-c9b9-95dae5e7fdff"
      },
      "execution_count": 13,
      "outputs": [
        {
          "output_type": "stream",
          "name": "stdout",
          "text": [
            "lo\n"
          ]
        }
      ]
    },
    {
      "cell_type": "code",
      "source": [
        "greeting = [\"Hello\", \"my\", \"name\", \"is\", \"Earl\"]\n",
        "\n",
        "print(greeting)"
      ],
      "metadata": {
        "colab": {
          "base_uri": "https://localhost:8080/"
        },
        "id": "LFbLbK5mNXTx",
        "outputId": "cefb3612-df3e-49be-95df-5256e50b8a7c"
      },
      "execution_count": 5,
      "outputs": [
        {
          "output_type": "stream",
          "name": "stdout",
          "text": [
            "['Hello', 'my', 'name', 'is', 'Earl']\n"
          ]
        }
      ]
    },
    {
      "cell_type": "code",
      "source": [
        "xyz =\"Hello ahari\"\n",
        "xyz.capitalize()\n",
        "print(xyz)"
      ],
      "metadata": {
        "colab": {
          "base_uri": "https://localhost:8080/"
        },
        "id": "ceAcr-8FOJsP",
        "outputId": "84db897e-4d29-4da8-8d18-fce2df081f51"
      },
      "execution_count": 17,
      "outputs": [
        {
          "output_type": "stream",
          "name": "stdout",
          "text": [
            "Hello ahari\n"
          ]
        }
      ]
    },
    {
      "cell_type": "code",
      "source": [],
      "metadata": {
        "id": "YC3jOOhnOpEB"
      },
      "execution_count": null,
      "outputs": []
    },
    {
      "cell_type": "code",
      "source": [
        "user_name = \":::::::: Eloise :::::::::::\"\n",
        "user_name_fixed = user_name.strip(\":\")\n",
        "print(user_name_fixed)"
      ],
      "metadata": {
        "id": "2htHucsNOtyN",
        "outputId": "0482e6b1-1c46-4d7a-984c-09f4e8d4361c",
        "colab": {
          "base_uri": "https://localhost:8080/"
        }
      },
      "execution_count": 11,
      "outputs": [
        {
          "output_type": "stream",
          "name": "stdout",
          "text": [
            " Eloise \n"
          ]
        }
      ]
    },
    {
      "cell_type": "code",
      "source": [
        "dirty_harry = \"Go ahead, make my day.\"\n",
        "split_hairs = dirty_harry.split(\"a\")\n",
        "print(split_hairs)"
      ],
      "metadata": {
        "id": "oPRK0GiCPFCP",
        "outputId": "2f048cac-040e-4346-a18e-0d733698fdbd",
        "colab": {
          "base_uri": "https://localhost:8080/"
        }
      },
      "execution_count": 13,
      "outputs": [
        {
          "output_type": "stream",
          "name": "stdout",
          "text": [
            "['Go ', 'he', 'd, m', 'ke my d', 'y.']\n"
          ]
        }
      ]
    },
    {
      "cell_type": "code",
      "source": [
        "pizza_toppings = [\"Cheese\", \"Pepperoni\", \"Garlic\", \"Pineapple\", \"Mushroom\", \"Prosciutto\"]\n",
        "pizza_toppings.pop(5)\n",
        "print(pizza_toppings)"
      ],
      "metadata": {
        "colab": {
          "base_uri": "https://localhost:8080/"
        },
        "id": "VHINfSRLYVgU",
        "outputId": "9434267d-bce0-46f8-b1dd-afb7f80ec66d"
      },
      "execution_count": 10,
      "outputs": [
        {
          "output_type": "stream",
          "name": "stdout",
          "text": [
            "['Cheese', 'Pepperoni', 'Garlic', 'Pineapple', 'Mushroom']\n"
          ]
        }
      ]
    },
    {
      "cell_type": "code",
      "source": [
        "old_list = [1, 2, 3]\n",
        "new_list = old_list\n",
        "new_list.append('a')\n",
        "print(len(new_list))\n",
        "print(new_list.count(2))\n",
        "\n",
        "print('New List:', new_list)\n",
        "print('Old List:', old_list)"
      ],
      "metadata": {
        "colab": {
          "base_uri": "https://localhost:8080/"
        },
        "id": "wLKTdlYiRTyS",
        "outputId": "dad2edc7-33fd-4dea-dbf6-a84622b58dbf"
      },
      "execution_count": 8,
      "outputs": [
        {
          "output_type": "stream",
          "name": "stdout",
          "text": [
            "4\n",
            "1\n",
            "New List: [1, 2, 3, 'a']\n",
            "Old List: [1, 2, 3, 'a']\n"
          ]
        }
      ]
    },
    {
      "cell_type": "code",
      "source": [
        "#some_list = [‘a’, ‘b’, ‘c’, ‘d’, ‘e’, ‘f’]\n",
        "#print(some_list[1:5])"
      ],
      "metadata": {
        "colab": {
          "base_uri": "https://localhost:8080/",
          "height": 106
        },
        "id": "VCAxuKsBBceX",
        "outputId": "6e031462-42c4-4cb5-ff9b-e6da125fe946"
      },
      "execution_count": 5,
      "outputs": [
        {
          "output_type": "error",
          "ename": "SyntaxError",
          "evalue": "invalid character '‘' (U+2018) (<ipython-input-5-3087439674>, line 1)",
          "traceback": [
            "\u001b[0;36m  File \u001b[0;32m\"<ipython-input-5-3087439674>\"\u001b[0;36m, line \u001b[0;32m1\u001b[0m\n\u001b[0;31m    some_list = [‘a’, ‘b’, ‘c’, ‘d’, ‘e’, ‘f’]\u001b[0m\n\u001b[0m                 ^\u001b[0m\n\u001b[0;31mSyntaxError\u001b[0m\u001b[0;31m:\u001b[0m invalid character '‘' (U+2018)\n"
          ]
        }
      ]
    },
    {
      "cell_type": "code",
      "source": [
        "#concatination\n",
        "l1 = [10,20,30]\n",
        "l2 = [40,50,60]\n",
        "print(l1+l2)\n",
        "l3 = l1+l2\n",
        "print(l3)\n",
        "l4 = l2+l1\n",
        "print(l4)"
      ],
      "metadata": {
        "colab": {
          "base_uri": "https://localhost:8080/"
        },
        "id": "jhEJ0p8FSdL9",
        "outputId": "1afbaada-ec15-4cd1-e8ab-b975074de092"
      },
      "execution_count": null,
      "outputs": [
        {
          "output_type": "stream",
          "name": "stdout",
          "text": [
            "[10, 20, 30, 40, 50, 60]\n",
            "[10, 20, 30, 40, 50, 60]\n",
            "[40, 50, 60, 10, 20, 30]\n"
          ]
        }
      ]
    },
    {
      "cell_type": "code",
      "source": [
        "#multiplication\n",
        "l1=[10,20,30]\n",
        "print(l1*3)\n"
      ],
      "metadata": {
        "colab": {
          "base_uri": "https://localhost:8080/"
        },
        "id": "2CyNnP-RTLd8",
        "outputId": "3d01f649-2a32-4e41-8351-820ab1d084c7"
      },
      "execution_count": null,
      "outputs": [
        {
          "output_type": "stream",
          "name": "stdout",
          "text": [
            "[10, 20, 30, 10, 20, 30, 10, 20, 30]\n"
          ]
        }
      ]
    },
    {
      "cell_type": "code",
      "source": [
        "#list itration\n",
        "l1=[10,20,30]\n",
        "print(l1)\n",
        "for i in l1:\n",
        "  print(i)"
      ],
      "metadata": {
        "colab": {
          "base_uri": "https://localhost:8080/"
        },
        "id": "RiDyHIcwUMpj",
        "outputId": "3c146b70-571a-4e3c-ffcb-ef9c3ec3b7a5"
      },
      "execution_count": null,
      "outputs": [
        {
          "output_type": "stream",
          "name": "stdout",
          "text": [
            "[10, 20, 30]\n",
            "10\n",
            "20\n",
            "30\n"
          ]
        }
      ]
    },
    {
      "cell_type": "code",
      "source": [
        "#list membership\n",
        "l1=[10,20,30]\n",
        "print(10 in l1)\n",
        "print(10 not in l1)"
      ],
      "metadata": {
        "colab": {
          "base_uri": "https://localhost:8080/"
        },
        "id": "zXlYhJO8UPfD",
        "outputId": "3ef9b0ca-e278-48e7-c437-4176555e44aa"
      },
      "execution_count": null,
      "outputs": [
        {
          "output_type": "stream",
          "name": "stdout",
          "text": [
            "True\n",
            "False\n"
          ]
        }
      ]
    },
    {
      "cell_type": "code",
      "source": [
        "#list deletion\n",
        "l1=[10,20,30,40]\n",
        "print(l1)\n",
        "del l1[0:2]\n",
        "print(l1)"
      ],
      "metadata": {
        "colab": {
          "base_uri": "https://localhost:8080/"
        },
        "id": "p2LVEDW9USN0",
        "outputId": "5e852472-6190-4f56-dce2-50682866cf90"
      },
      "execution_count": null,
      "outputs": [
        {
          "output_type": "stream",
          "name": "stdout",
          "text": [
            "[10, 20, 30, 40]\n",
            "[30, 40]\n"
          ]
        }
      ]
    },
    {
      "cell_type": "code",
      "source": [
        "#max element\n",
        "l1=[10,20,30]\n",
        "print(max(l1))\n",
        "print(min(l1))\n",
        "\n",
        "l2=[\"Appleaa\",\"Amma\",\"Bannana\"] # due to asci value\n",
        "print(max(l2,key = len)) # key = len means will find length of the string rather than asci\n",
        "print(min(l2))"
      ],
      "metadata": {
        "colab": {
          "base_uri": "https://localhost:8080/"
        },
        "id": "vhHpadf8VKKd",
        "outputId": "c8d48c31-b9da-4de4-894d-f72da749f72d"
      },
      "execution_count": null,
      "outputs": [
        {
          "output_type": "stream",
          "name": "stdout",
          "text": [
            "30\n",
            "10\n",
            "Appleaa\n",
            "Amma\n"
          ]
        }
      ]
    },
    {
      "cell_type": "code",
      "source": [
        "#apend method\n",
        "l1=[10,20,30]\n",
        "l1.append(1.234)\n",
        "print(l1)\n"
      ],
      "metadata": {
        "colab": {
          "base_uri": "https://localhost:8080/"
        },
        "id": "WeoZKO61XEB1",
        "outputId": "b6327b12-b7a1-4700-9777-68af09b8490e"
      },
      "execution_count": null,
      "outputs": [
        {
          "output_type": "stream",
          "name": "stdout",
          "text": [
            "[10, 20, 30, 1.234]\n"
          ]
        }
      ]
    },
    {
      "cell_type": "code",
      "source": [
        "#append multiple elements\n",
        "k=[1,2,3,4,5]\n",
        "i=0\n",
        "while i<5:\n",
        "  l=int(input(\"Enter a number: \"))\n",
        "  k.append(l)\n",
        "  i=i+1\n",
        "print(k)\n"
      ],
      "metadata": {
        "colab": {
          "base_uri": "https://localhost:8080/"
        },
        "id": "LRv-2E_vdzQu",
        "outputId": "af994916-7115-4bee-c074-25c3d2f721eb"
      },
      "execution_count": null,
      "outputs": [
        {
          "output_type": "stream",
          "name": "stdout",
          "text": [
            "Enter a number: 1\n",
            "Enter a number: 1\n",
            "Enter a number: 1\n",
            "Enter a number: 2\n",
            "Enter a number: 2\n",
            "[1, 2, 3, 4, 5, 1, 1, 1, 2, 2]\n"
          ]
        }
      ]
    },
    {
      "cell_type": "code",
      "source": [
        "#extend\n",
        "l1=[10,20,30]\n",
        "l2=[40,50,60, \"NTT\"]\n",
        "l1.extend(l2)\n",
        "print(l1)\n"
      ],
      "metadata": {
        "colab": {
          "base_uri": "https://localhost:8080/"
        },
        "id": "Mg1IIrRSejl9",
        "outputId": "23c8dd0c-e933-4afe-e2b5-1a87bcb8d376"
      },
      "execution_count": null,
      "outputs": [
        {
          "output_type": "stream",
          "name": "stdout",
          "text": [
            "[10, 20, 30, 40, 50, 60, 'NTT']\n"
          ]
        }
      ]
    },
    {
      "cell_type": "code",
      "source": [
        "#extend\n",
        "l1=[10,20,30]\n",
        "l2=[\"NTT\"]\n",
        "l1.extend(l2)\n",
        "print(l1)\n"
      ],
      "metadata": {
        "colab": {
          "base_uri": "https://localhost:8080/"
        },
        "id": "nNTb7Gl5fAUN",
        "outputId": "d9182865-5d78-457f-b077-01ee1e7068de"
      },
      "execution_count": null,
      "outputs": [
        {
          "output_type": "stream",
          "name": "stdout",
          "text": [
            "[10, 20, 30, 'NTT']\n"
          ]
        }
      ]
    },
    {
      "cell_type": "code",
      "source": [
        "#extend\n",
        "l1=[10,20,30]\n",
        "l1.extend(\"NTT data\")\n",
        "print(l1)"
      ],
      "metadata": {
        "colab": {
          "base_uri": "https://localhost:8080/"
        },
        "id": "iCQ9iky9f4Hd",
        "outputId": "55072191-ed02-4580-aa31-19b0d189e7a0"
      },
      "execution_count": null,
      "outputs": [
        {
          "output_type": "stream",
          "name": "stdout",
          "text": [
            "[10, 20, 30, 'N', 'T', 'T', ' ', 'd', 'a', 't', 'a']\n"
          ]
        }
      ]
    },
    {
      "cell_type": "code",
      "source": [
        "#insert\n",
        "l1=[10,20,30]\n",
        "l1.insert(0,100)\n",
        "l1.insert(0,\"NTT\")\n",
        "print(l1)"
      ],
      "metadata": {
        "colab": {
          "base_uri": "https://localhost:8080/"
        },
        "id": "G7lj4VnJgZg1",
        "outputId": "cb149fb8-64b5-4b33-9be9-d2c37f98acc4"
      },
      "execution_count": null,
      "outputs": [
        {
          "output_type": "stream",
          "name": "stdout",
          "text": [
            "['NTT', 100, 10, 20, 30]\n"
          ]
        }
      ]
    },
    {
      "cell_type": "code",
      "source": [
        "#remove\n",
        "l1=[10,20,30,40,10,10,10]\n",
        "l1.remove(10)\n",
        "print(l1)"
      ],
      "metadata": {
        "colab": {
          "base_uri": "https://localhost:8080/"
        },
        "id": "Tr_ozTL7iWlm",
        "outputId": "dec1b1f6-946a-41dc-9d01-362d529745ff"
      },
      "execution_count": null,
      "outputs": [
        {
          "output_type": "stream",
          "name": "stdout",
          "text": [
            "[20, 30, 40, 10, 10, 10]\n"
          ]
        }
      ]
    },
    {
      "cell_type": "code",
      "source": [
        "#pop\n",
        "l1=[10,20,30,40,50,60]\n",
        "l1.pop(5)\n",
        "print(l1)\n",
        "print(l1.pop())\n",
        "\n",
        "print(l1)\n"
      ],
      "metadata": {
        "colab": {
          "base_uri": "https://localhost:8080/"
        },
        "id": "oo4nlAI8imHe",
        "outputId": "d9e2d9dd-cd85-4035-d116-e6c65a13cb09"
      },
      "execution_count": null,
      "outputs": [
        {
          "output_type": "stream",
          "name": "stdout",
          "text": [
            "[10, 20, 30, 40, 50]\n",
            "50\n",
            "[10, 20, 30, 40]\n"
          ]
        }
      ]
    },
    {
      "cell_type": "code",
      "source": [
        "#clear\n",
        "l1=[10,20,30,40,50,60]\n",
        "l1.clear()\n",
        "print(l1)"
      ],
      "metadata": {
        "colab": {
          "base_uri": "https://localhost:8080/"
        },
        "id": "NTCICaptkSsf",
        "outputId": "ef4bd237-47ad-4e0e-9581-b05aa772c2c1"
      },
      "execution_count": null,
      "outputs": [
        {
          "output_type": "stream",
          "name": "stdout",
          "text": [
            "[]\n"
          ]
        }
      ]
    },
    {
      "cell_type": "code",
      "source": [
        "#delete\n",
        "l1=[10,20,30,40,50,60]\n",
        "del l1\n",
        "#print(l1)\n"
      ],
      "metadata": {
        "id": "mP2V2alEklkX"
      },
      "execution_count": null,
      "outputs": []
    },
    {
      "cell_type": "code",
      "source": [
        "a = [1,2,3]\n",
        "a.extend([4,5])\n",
        "print(a)"
      ],
      "metadata": {
        "id": "6NkVqkysQY14",
        "outputId": "04077663-9f39-4025-a950-109deb11d376",
        "colab": {
          "base_uri": "https://localhost:8080/"
        }
      },
      "execution_count": null,
      "outputs": [
        {
          "output_type": "stream",
          "name": "stdout",
          "text": [
            "[1, 2, 3, 4, 5]\n"
          ]
        }
      ]
    },
    {
      "cell_type": "code",
      "source": [
        "a = [1,2,3]\n",
        "A = a[:]\n",
        "print(A)\n",
        "A =10\n",
        "print(A)"
      ],
      "metadata": {
        "id": "N9iLEKtPPf7e",
        "outputId": "22af29b8-c4da-4919-b87e-51925248cf42",
        "colab": {
          "base_uri": "https://localhost:8080/"
        }
      },
      "execution_count": null,
      "outputs": [
        {
          "output_type": "stream",
          "name": "stdout",
          "text": [
            "[1, 2, 3]\n",
            "10\n"
          ]
        }
      ]
    },
    {
      "cell_type": "code",
      "source": [
        "def test(city, name, age, current_city):\n",
        "  print(\"My name is \", name, \"and I am \", age, \"years old\", \"I'm native of\", city, \"and I live in\", current_city)\n",
        "\n",
        "\n",
        "test(\"hyd\",\"lah\",age=25,current_city=\"bangalore\")"
      ],
      "metadata": {
        "id": "TrIfPKF3Pa-h",
        "outputId": "14d53d67-cddf-404e-bb31-fd5cbe1a8ef0",
        "colab": {
          "base_uri": "https://localhost:8080/"
        }
      },
      "execution_count": null,
      "outputs": [
        {
          "output_type": "stream",
          "name": "stdout",
          "text": [
            "My name is  lah and I am  25 years old I'm native of hyd and I live in bangalore\n"
          ]
        }
      ]
    },
    {
      "cell_type": "code",
      "source": [
        "#default arguements\n",
        "def student(name, age, m1, m2, m3, college=\"BITSW\"):\n",
        "  print(name,age, m1,m2, m3, college)\n",
        "\n",
        "\n",
        "student(\"Lahari\", 25,96,97,98)\n",
        "student(\"vaishnavi\", 26,93,94,95,\"BI\")\n"
      ],
      "metadata": {
        "id": "kEujSddBP7Zx",
        "outputId": "ed0d3883-1f2e-4628-9465-2f36bc3e5dbd",
        "colab": {
          "base_uri": "https://localhost:8080/"
        }
      },
      "execution_count": null,
      "outputs": [
        {
          "output_type": "stream",
          "name": "stdout",
          "text": [
            "Lahari 25 96 97 98 BITSW\n",
            "vaishnavi 26 93 94 95 BI\n"
          ]
        }
      ]
    },
    {
      "cell_type": "code",
      "source": [
        "#positional arguements--keyword args----------Default args\n",
        "\n",
        "def student(name, age, m1, m2, m3, college=\"BITSW\"):\n",
        "  print(name,age, m1,m2, m3, college)\n",
        "\n",
        "\n",
        "student(\"Lahari\",m1=96, age=25,m2=97,m3=98)\n",
        "student(\"vaishnavi\", 26,93,94,95,\"BI\")"
      ],
      "metadata": {
        "id": "6OaVO8FXRaK6",
        "outputId": "365a8468-5739-4217-9125-e51e87c089e8",
        "colab": {
          "base_uri": "https://localhost:8080/"
        }
      },
      "execution_count": null,
      "outputs": [
        {
          "output_type": "stream",
          "name": "stdout",
          "text": [
            "Lahari 25 96 97 98 BITSW\n",
            "vaishnavi 26 93 94 95 BI\n"
          ]
        }
      ]
    },
    {
      "cell_type": "code",
      "source": [
        "#class\n",
        "\n",
        "def _init_(self, n1, n2):\n",
        "  self.n1=n1\n",
        "  self.n2=n2\n",
        "  self.res = 0\n",
        "\n",
        "  obj1 = Sample()\n",
        "  Obj2 = Sample()\n",
        "  obj3 = Sample()\n",
        "\n",
        "  obj1.input_data()\n",
        "  obj2.input_data()\n",
        "  obj3.input_data()\n",
        "\n",
        "  obj1.display_data()\n",
        "  obj2.display_data()\n",
        "  obj3.display_data()\n",
        "\n",
        "  obj1.process_data()\n",
        "  obj2.process_data()\n",
        "  obj3.process_data()\n",
        "\n",
        "  obj1.display_data()\n",
        "  obj2.display_data()\n",
        "  obj3.display_data()\n",
        "\n",
        "  obj1.output_data()\n",
        "  obj2.output_data()\n",
        "  obj3.output_data()"
      ],
      "metadata": {
        "id": "G6Scc1TgqKtW"
      },
      "execution_count": null,
      "outputs": []
    },
    {
      "cell_type": "code",
      "source": [
        "#simple Calculator\n",
        "class Calculator:\n",
        "\n",
        "  # Note: The constructor method is __init__ (two underscores), not _init_ (one underscore)\n",
        "  def __init__(self):\n",
        "    self.n1=0\n",
        "    self.n2=0\n",
        "    self.res=0\n",
        "\n",
        "  def input_data(self):\n",
        "    self.n1 = int(input(\"Enter first number: \"))\n",
        "    self.n2 = int(input(\"Enter second number: \"))\n",
        "\n",
        "  def add(self):\n",
        "    self.res = self.n1 + self.n2\n",
        "    print(self.res)\n",
        "\n",
        "  def sub(self):\n",
        "    self.res = self.n1 - self.n2\n",
        "    print(self.res)\n",
        "\n",
        "# Create instances of the Calculator class\n",
        "c1 = Calculator()\n",
        "c2 = Calculator()\n",
        "\n",
        "# Call methods on the instances\n",
        "c1.input_data()\n",
        "c1.add()\n",
        "c1.sub()\n",
        "\n",
        "c2.input_data()\n",
        "c2.add()\n",
        "c2.sub()\n"
      ],
      "metadata": {
        "colab": {
          "base_uri": "https://localhost:8080/"
        },
        "id": "bCHOwdFfrDZk",
        "outputId": "35ff8567-5771-4ad9-8f5f-36b7b6211d2f"
      },
      "execution_count": null,
      "outputs": [
        {
          "output_type": "stream",
          "name": "stdout",
          "text": [
            "Enter first number: 10\n",
            "Enter second number: 20\n",
            "30\n",
            "-10\n"
          ]
        }
      ]
    },
    {
      "cell_type": "code",
      "source": [
        "class Test:\n",
        "\n",
        "  def __init__(self, aa, bb):\n",
        "    self.res=0\n",
        "    self.a=aa\n",
        "    self.b=bb\n",
        "\n",
        "  def __init__(self):\n"
      ],
      "metadata": {
        "id": "0_5Nc07F2a-4"
      },
      "execution_count": null,
      "outputs": []
    },
    {
      "cell_type": "code",
      "source": [
        "class Employee:\n",
        "  def __init__(self, n, id, dep, sal):\n",
        "    self.name = n\n",
        "    self.empid = id\n",
        "    self.dept = dep\n",
        "    self.salary = sal\n",
        "    self.bonus = 20\n",
        "    self.total_salary = 0\n",
        "\n",
        "  def calculate_salary(self):\n",
        "    self.total_salary = self.salary + self.bonus\n",
        "\n",
        "  def display_details(self):\n",
        "    print('Employee Name:', self.name, ', Employee ID:', self.empid, '\\nDepartment:', self.dept, ', Salary:', self.salary, ', Bonus:', self.bonus, ', Total Salary:', self.total_salary)\n",
        "\n",
        "e1 = Employee('Tom', 101, 'IT', 5000)\n",
        "e1.calculate_salary()\n",
        "e1.display_details()"
      ],
      "metadata": {
        "id": "KC78w6KV22Dj",
        "outputId": "ce13963d-0381-48db-e2fe-00608117f950",
        "colab": {
          "base_uri": "https://localhost:8080/"
        }
      },
      "execution_count": null,
      "outputs": [
        {
          "output_type": "stream",
          "name": "stdout",
          "text": [
            "Employee Name: Tom , Employee ID: 101 \n",
            "Department: IT , Salary: 5000 , Bonus: 20 , Total Salary: 5020\n"
          ]
        }
      ]
    },
    {
      "cell_type": "code",
      "source": [
        "dct = {}\n",
        "dct['1']=(1,2)\n",
        "dct['2']=(2,1)\n",
        "\n",
        "for x in dct.keys():\n",
        "  print(dct[x][1])\n"
      ],
      "metadata": {
        "id": "sVPZwl1RWJqI"
      },
      "execution_count": null,
      "outputs": []
    },
    {
      "cell_type": "code",
      "source": [
        "names_list.count_times(“John”)\n"
      ],
      "metadata": {
        "colab": {
          "base_uri": "https://localhost:8080/",
          "height": 106
        },
        "id": "G9NpdmNr_36J",
        "outputId": "c5cd5804-c13c-47d9-bb8c-3f7883bfa898"
      },
      "execution_count": 2,
      "outputs": [
        {
          "output_type": "error",
          "ename": "SyntaxError",
          "evalue": "invalid character '“' (U+201C) (<ipython-input-2-3812275416>, line 1)",
          "traceback": [
            "\u001b[0;36m  File \u001b[0;32m\"<ipython-input-2-3812275416>\"\u001b[0;36m, line \u001b[0;32m1\u001b[0m\n\u001b[0;31m    names_list.count_times(“John”)\u001b[0m\n\u001b[0m                           ^\u001b[0m\n\u001b[0;31mSyntaxError\u001b[0m\u001b[0;31m:\u001b[0m invalid character '“' (U+201C)\n"
          ]
        }
      ]
    }
  ]
}